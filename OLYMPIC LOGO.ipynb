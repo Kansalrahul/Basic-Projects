{
 "cells": [
  {
   "cell_type": "code",
   "execution_count": 1,
   "id": "f61ad989",
   "metadata": {},
   "outputs": [],
   "source": [
    "import turtle as t\n",
    "\n"
   ]
  },
  {
   "cell_type": "code",
   "execution_count": null,
   "id": "7d696e9f",
   "metadata": {},
   "outputs": [],
   "source": [
    "t.speed(5)\n",
    "t.width(10)\n",
    "t.penup()\n",
    "t.goto(-170,-100)\n",
    "t.pendown()\n",
    "x=-170\n",
    "tokyo=['blue','black','red']\n",
    "for i in tokyo:\n",
    "    t.color(i)\n",
    "    t.circle(80)\n",
    "    t.penup()\n",
    "    t.goto(x+195,-100)\n",
    "    x=x+195\n",
    "    t.pendown()\n",
    "t.penup()\n",
    "t.goto(-70,-170)\n",
    "t.pendown()\n",
    "t.color('yellow')\n",
    "t.circle(80)\n",
    "t.penup()\n",
    "t.goto(130,-170)\n",
    "t.pendown()\n",
    "t.color('green')\n",
    "t.circle(80)\n",
    "t.penup()\n",
    "t.goto(-220,170)\n",
    "t.pendown()\n",
    "t.hideturtle()\n",
    "t.done()"
   ]
  },
  {
   "cell_type": "code",
   "execution_count": null,
   "id": "af16d057",
   "metadata": {},
   "outputs": [],
   "source": []
  }
 ],
 "metadata": {
  "kernelspec": {
   "display_name": "Python 3 (ipykernel)",
   "language": "python",
   "name": "python3"
  },
  "language_info": {
   "codemirror_mode": {
    "name": "ipython",
    "version": 3
   },
   "file_extension": ".py",
   "mimetype": "text/x-python",
   "name": "python",
   "nbconvert_exporter": "python",
   "pygments_lexer": "ipython3",
   "version": "3.9.7"
  }
 },
 "nbformat": 4,
 "nbformat_minor": 5
}
