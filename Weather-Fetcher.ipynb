{
 "cells": [
  {
   "cell_type": "code",
   "execution_count": 1,
   "id": "3523c02d",
   "metadata": {},
   "outputs": [
    {
     "name": "stdout",
     "output_type": "stream",
     "text": [
      "Enter a City Name: Gurugram\n",
      "Temprature:  28.02 Clecius Weather: haze\n"
     ]
    }
   ],
   "source": [
    "import requests\n",
    "\n",
    "API_KEY=\"a94e78e01d8620b563f06e778f76c607\"\n",
    "BASE_URL=\"https://api.openweathermap.org/data/2.5/weather\"\n",
    "\n",
    "\n",
    "City= input('Enter a City Name: ')\n",
    "\n",
    "request_URL=f\"{BASE_URL}?appid={API_KEY}&q={City}\"\n",
    "\n",
    "response=requests.get(request_URL)\n",
    "\n",
    "if response.status_code==200:\n",
    "    Data=response.json()\n",
    "    weather=Data['weather'][0]['description']\n",
    "   \n",
    "    temprature=round(Data['main']['temp']-273.15,2)\n",
    "    print('Temprature: ',temprature,'Clecius',\"Weather:\",weather)\n",
    "\n",
    "   \n",
    "else:\n",
    "    print('An error occured')\n"
   ]
  },
  {
   "cell_type": "code",
   "execution_count": null,
   "id": "ea44b076",
   "metadata": {},
   "outputs": [],
   "source": []
  },
  {
   "cell_type": "code",
   "execution_count": null,
   "id": "8d5eeeca",
   "metadata": {},
   "outputs": [],
   "source": []
  },
  {
   "cell_type": "code",
   "execution_count": null,
   "id": "063836ae",
   "metadata": {},
   "outputs": [],
   "source": []
  }
 ],
 "metadata": {
  "kernelspec": {
   "display_name": "Python 3 (ipykernel)",
   "language": "python",
   "name": "python3"
  },
  "language_info": {
   "codemirror_mode": {
    "name": "ipython",
    "version": 3
   },
   "file_extension": ".py",
   "mimetype": "text/x-python",
   "name": "python",
   "nbconvert_exporter": "python",
   "pygments_lexer": "ipython3",
   "version": "3.9.7"
  }
 },
 "nbformat": 4,
 "nbformat_minor": 5
}
