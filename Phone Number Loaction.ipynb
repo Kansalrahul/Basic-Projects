{
 "cells": [
  {
   "cell_type": "code",
   "execution_count": 24,
   "id": "913ad413",
   "metadata": {
    "scrolled": true
   },
   "outputs": [
    {
     "name": "stdout",
     "output_type": "stream",
     "text": [
      "India\n",
      "Reliance Jio\n"
     ]
    }
   ],
   "source": [
    "import phonenumbers\n",
    "from phonenumbers import geocoder\n",
    "Number='+918168515478'\n",
    "ch_number=phonenumbers.parse(Number,'CH')\n",
    "print(geocoder.description_for_number(ch_number,'en'))\n",
    "from phonenumbers import carrier\n",
    "service_number=phonenumbers.parse(Number,'RO')\n",
    "print(carrier.name_for_number(service_number,'en'))"
   ]
  },
  {
   "cell_type": "code",
   "execution_count": 7,
   "id": "6bb187f8",
   "metadata": {},
   "outputs": [],
   "source": [
    " "
   ]
  },
  {
   "cell_type": "code",
   "execution_count": null,
   "id": "58b8d985",
   "metadata": {},
   "outputs": [],
   "source": []
  }
 ],
 "metadata": {
  "kernelspec": {
   "display_name": "Python 3 (ipykernel)",
   "language": "python",
   "name": "python3"
  },
  "language_info": {
   "codemirror_mode": {
    "name": "ipython",
    "version": 3
   },
   "file_extension": ".py",
   "mimetype": "text/x-python",
   "name": "python",
   "nbconvert_exporter": "python",
   "pygments_lexer": "ipython3",
   "version": "3.9.7"
  }
 },
 "nbformat": 4,
 "nbformat_minor": 5
}
