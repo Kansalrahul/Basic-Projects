{
 "cells": [
  {
   "cell_type": "code",
   "execution_count": null,
   "id": "d4be9b9b",
   "metadata": {},
   "outputs": [],
   "source": [
    "import smtplib\n",
    "import ssl\n",
    "from email.message import EmailMessage\n",
    "\n",
    "\n",
    "subject='Email From Python'\n",
    "body='This is a Test Email From Python'\n",
    "Sender_Email='rahulkan2000@gmail.com'\n",
    "Reciever_Email='Sitakan2099@gmail.com'\n",
    "Password=input('Enter a password: ')\n",
    "\n",
    "\n",
    "message=EmailMessage()\n",
    "message['From']=Sender_Email\n",
    "message['To']=Reciever_Email\n",
    "message['Subject']=subject\n",
    "message.set_content(body)\n",
    "\n",
    "\n",
    "context=ssl.create_default_context()  # it makes a secure connection to connect gmail.\n",
    "print('Sending Email!')\n",
    "\n",
    "with smtplib.SMTP_SSL('smtp.gmail.com',465,context=context) as server:\n",
    "    server.login(Sender_Email,Password)\n",
    "    server.sendmail(Sender_Email,Reciever_Email,message.as_string())\n",
    "    \n",
    "print('Success')    "
   ]
  },
  {
   "cell_type": "code",
   "execution_count": null,
   "id": "8fa60825",
   "metadata": {},
   "outputs": [],
   "source": []
  }
 ],
 "metadata": {
  "kernelspec": {
   "display_name": "Python 3 (ipykernel)",
   "language": "python",
   "name": "python3"
  },
  "language_info": {
   "codemirror_mode": {
    "name": "ipython",
    "version": 3
   },
   "file_extension": ".py",
   "mimetype": "text/x-python",
   "name": "python",
   "nbconvert_exporter": "python",
   "pygments_lexer": "ipython3",
   "version": "3.9.7"
  }
 },
 "nbformat": 4,
 "nbformat_minor": 5
}
